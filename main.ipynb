{
 "cells": [
  {
   "cell_type": "markdown",
   "id": "7a40a027",
   "metadata": {},
   "source": [
    "# Judd Creek Project"
   ]
  },
  {
   "cell_type": "code",
   "execution_count": null,
   "id": "95e03a13",
   "metadata": {},
   "outputs": [],
   "source": [
    "# This first cell just loads a few modules that we'll need.\n",
    "# Run it by clicking on any of the text, holding down the shift key, and then pressing enter.\n",
    "import os\n",
    "import pandas as pd\n",
    "from io import StringIO\n",
    "import matplotlib.pyplot as plt\n",
    "from io import StringIO\n",
    "import matplotlib.pyplot as plt\n",
    "import matplotlib.dates as mdates\n",
    "from judd import *"
   ]
  },
  {
   "cell_type": "code",
   "execution_count": null,
   "id": "7806ad26",
   "metadata": {},
   "outputs": [],
   "source": [
    "# 1. First, let's open on of the downloaded data files from this site:\n",
    "# https://green2.kingcounty.gov/hydrology/DataDownload.aspx\n",
    "\n",
    "# 2. To select the right station, you'll need to use the map:\n",
    "# https://green2.kingcounty.gov/hydrology/GaugeMap.aspx\n",
    "\n",
    "# 3. Upload the data file you downloaded to the Jupyter Hub, in the data directory, and then change the\n",
    "# following path to the name of the file.\n",
    "filepath = 'data/Hydrology_ACGAA.csv'\n",
    "\n",
    "# The King county files are not well formatted so we have to have a few extra lines here to clean\n",
    "# the data\n",
    "with open(filepath) as f:\n",
    "    lines = [line.rstrip(',\\n') for line in f]\n",
    "\n",
    "# Write cleaned lines to a temporary in-memory string\n",
    "cleaned_data = StringIO('\\n'.join(lines))\n",
    "\n",
    "# Now read with pandas\n",
    "df = pd.read_csv(cleaned_data)\n",
    "\n",
    "df"
   ]
  },
  {
   "cell_type": "code",
   "execution_count": null,
   "id": "9fdff295",
   "metadata": {},
   "outputs": [],
   "source": [
    "# Download all of the data files from the the study area.\n",
    "# Unfortunately, the provided files are not well formatted.\n",
    "# The following code is necessary to correct the downloaded files. \n",
    "# The code also puts all of the data into one big output file.\n",
    "\n",
    "data_dir = \"data/\"\n",
    "df = king_county_csv_loader(data_dir)"
   ]
  },
  {
   "cell_type": "code",
   "execution_count": null,
   "id": "e7b3ff17",
   "metadata": {},
   "outputs": [],
   "source": [
    "# Here's a simple bit of code to plot the time series\n",
    "# from a single station\n",
    "\n",
    "# Filter data\n",
    "df_filtered = df[df.Site_Code == '43U']\n",
    "\n",
    "# Plot\n",
    "plt.plot(df_filtered['Collect Date (local)'], \n",
    "         df_filtered['Precipitation (inches)'])\n",
    "\n",
    "plt.show()"
   ]
  },
  {
   "cell_type": "code",
   "execution_count": null,
   "id": "eee08de9",
   "metadata": {},
   "outputs": [],
   "source": [
    "# This code makes a more nicely formatted plot.\n",
    "\n",
    "fig, ax = plt.subplots(figsize=(10, 4))\n",
    "\n",
    "# Filter data\n",
    "df_filtered = df[df.Site_Code == '43U']\n",
    "\n",
    "# Plot\n",
    "ax.plot(df_filtered['Collect Date (local)'], \n",
    "        df_filtered['Precipitation (inches)'],\n",
    "        marker='o', linestyle='-')\n",
    "\n",
    "# Labels\n",
    "ax.set_xlabel(\"Date\")\n",
    "ax.set_ylabel(\"Precipitation (inches)\")\n",
    "ax.grid(True)\n",
    "\n",
    "# Format x-axis\n",
    "locator = mdates.AutoDateLocator()\n",
    "# formatter = mdates.ConciseDateFormatter(locator)\n",
    "formatter = mdates.DateFormatter(\"%b %Y\")  # e.g., 'Apr 2025'\n",
    "ax.xaxis.set_major_locator(locator)\n",
    "ax.xaxis.set_major_formatter(formatter)\n",
    "\n",
    "fig.autofmt_xdate()\n",
    "plt.tight_layout()\n",
    "plt.show()\n"
   ]
  },
  {
   "cell_type": "code",
   "execution_count": null,
   "id": "62836886",
   "metadata": {},
   "outputs": [],
   "source": [
    "# Assuming your DataFrame is called df\n",
    "df['Collect Date (local)'] = pd.to_datetime(df['Collect Date (local)'])\n",
    "\n",
    "# Define the hydrological year: assign the year of the following January to dates from Oct–Dec\n",
    "df['Hydro Year'] = df['Collect Date (local)'].apply(\n",
    "    lambda x: x.year + 1 if x.month >= 10 else x.year\n",
    ")\n",
    "\n",
    "# Group by Hydro Year and Site_Code and calculate average precipitation\n",
    "avg_precip = df.groupby(['Site_Code', 'Hydro Year'])['Precipitation (inches)'].mean().reset_index()\n",
    "\n",
    "# Rename for clarity\n",
    "avg_precip.rename(columns={'Precipitation (inches)': 'Avg Precip (inches)'}, inplace=True)\n",
    "\n",
    "# Display the new DataFrame\n",
    "print(avg_precip)\n"
   ]
  },
  {
   "cell_type": "code",
   "execution_count": null,
   "id": "8bcb6b53",
   "metadata": {},
   "outputs": [],
   "source": [
    "# Now examine just one extreme year\n",
    "avg_precip[avg_precip['Hydro Year']==2019]"
   ]
  },
  {
   "cell_type": "markdown",
   "id": "a99130a4",
   "metadata": {},
   "source": [
    "# Part 2: Theissen polygon (\"Vornoi Diagram\") maps"
   ]
  },
  {
   "cell_type": "code",
   "execution_count": null,
   "id": "2338f304",
   "metadata": {},
   "outputs": [],
   "source": [
    "# In this section, we plot the above data spatially.  We'll start by looking at \n",
    "# the 2019 hydrological year.\n",
    "\n",
    "import geopandas as gpd\n",
    "from scipy.spatial import Voronoi, voronoi_plot_2d\n",
    "import matplotlib.colors as mcolors\n",
    "\n",
    "# Step 1: Load metadata and filter avg_precip\n",
    "metadata = pd.read_csv('data/metadata.csv', comment='#')\n",
    "\n",
    "# Filter avg_precip to hydrological year 2019\n",
    "avg_2019 = avg_precip[avg_precip['Hydro Year'] == 2019]\n",
    "\n",
    "# Merge on site code\n",
    "merged_2019 = avg_2019.merge(metadata, left_on='Site_Code', right_on='Site_Code')\n",
    "\n",
    "merged_2019\n"
   ]
  },
  {
   "cell_type": "code",
   "execution_count": null,
   "id": "75a67d97",
   "metadata": {},
   "outputs": [],
   "source": [
    "# Next step: make an outline for the area of interest (AOI)\n",
    "# do this by going to geojson.io, tracing out Vashon Island, and \n",
    "# then exporting the .geojson file and uploading it here.\n",
    "\n",
    "geojson_path=\"data/map.geojson\"\n",
    "island_polygon = gpd.read_file(geojson_path).to_crs('EPSG:2926')\n",
    "boundary_poly = island_polygon.unary_union\n",
    "boundary_poly"
   ]
  },
  {
   "cell_type": "code",
   "execution_count": null,
   "id": "76cb0df1",
   "metadata": {},
   "outputs": [],
   "source": [
    "gdf_voronoi = make_voronoi_gdf(merged_2019, geojson_path=geojson_path)"
   ]
  },
  {
   "cell_type": "code",
   "execution_count": null,
   "id": "bd2f6019",
   "metadata": {},
   "outputs": [],
   "source": [
    "fig, ax = plt.subplots(figsize=(10,10))\n",
    "gdf_voronoi.plot(column='Avg Precip (inches)', cmap='viridis', edgecolor='k', legend=True,ax=ax)\n",
    "plt.show()"
   ]
  },
  {
   "cell_type": "code",
   "execution_count": null,
   "id": "5c3d2346",
   "metadata": {},
   "outputs": [],
   "source": [
    "gdf_voronoi"
   ]
  },
  {
   "cell_type": "code",
   "execution_count": null,
   "id": "682b1c55",
   "metadata": {},
   "outputs": [],
   "source": []
  }
 ],
 "metadata": {
  "kernelspec": {
   "display_name": "Python 3 (ipykernel)",
   "language": "python",
   "name": "python3"
  },
  "language_info": {
   "codemirror_mode": {
    "name": "ipython",
    "version": 3
   },
   "file_extension": ".py",
   "mimetype": "text/x-python",
   "name": "python",
   "nbconvert_exporter": "python",
   "pygments_lexer": "ipython3",
   "version": "3.7.12"
  }
 },
 "nbformat": 4,
 "nbformat_minor": 5
}
