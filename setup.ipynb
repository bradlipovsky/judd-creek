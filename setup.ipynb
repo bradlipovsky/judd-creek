{
 "cells": [
  {
   "cell_type": "code",
   "execution_count": null,
   "id": "3344dd55",
   "metadata": {},
   "outputs": [],
   "source": [
    "import sys\n",
    "!{sys.executable}  -m pip install numpy\n",
    "!{sys.executable}  -m pip install pandas\n",
    "!{sys.executable}  -m pip install matplotlib\n",
    "!{sys.executable}  -m pip install pip install geopandas\n",
    "!mkdir data"
   ]
  },
  {
   "cell_type": "code",
   "execution_count": null,
   "id": "c8888223",
   "metadata": {},
   "outputs": [],
   "source": []
  }
 ],
 "metadata": {
  "kernelspec": {
   "display_name": "Python 3 (ipykernel)",
   "language": "python",
   "name": "python3"
  },
  "language_info": {
   "codemirror_mode": {
    "name": "ipython",
    "version": 3
   },
   "file_extension": ".py",
   "mimetype": "text/x-python",
   "name": "python",
   "nbconvert_exporter": "python",
   "pygments_lexer": "ipython3",
   "version": "3.7.12"
  }
 },
 "nbformat": 4,
 "nbformat_minor": 5
}
